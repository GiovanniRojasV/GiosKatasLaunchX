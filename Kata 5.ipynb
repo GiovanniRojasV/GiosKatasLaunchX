{
 "cells": [
  {
   "cell_type": "code",
   "execution_count": 5,
   "metadata": {},
   "outputs": [
    {
     "name": "stdout",
     "output_type": "stream",
     "text": [
      "628949330\n"
     ]
    }
   ],
   "source": [
    "tierra = 149597870 \n",
    "jupiter = 778547200 \n",
    "\n",
    "distancia_Kms = jupiter - tierra\n",
    "print(distancia_Kms)"
   ]
  },
  {
   "cell_type": "code",
   "execution_count": 6,
   "metadata": {},
   "outputs": [
    {
     "name": "stdout",
     "output_type": "stream",
     "text": [
      "390577533.93\n"
     ]
    }
   ],
   "source": [
    "distancia_millas = distancia_Kms * 0.621\n",
    "print(distancia_millas)"
   ]
  },
  {
   "cell_type": "code",
   "execution_count": 10,
   "metadata": {},
   "outputs": [
    {
     "name": "stdout",
     "output_type": "stream",
     "text": [
      "-12222177\n"
     ]
    }
   ],
   "source": [
    "#Solicitar datos por teclado\n",
    "Planeta_1 = input ('Introduzca la distancia del sol para el primer planeta en KM')\n",
    "Planeta_2 = input ('Introduzca la distancia desde el sol para el segundo planeta en KM')\n",
    "\n",
    "# Convierte las cadenas de ambos planetas a números enteros\n",
    "Planeta_1 =int(Planeta_1)\n",
    "Planeta_2 =int(Planeta_2)\n",
    "\n",
    "distancia_Kms = Planeta_2 - Planeta_1\n",
    "print(distancia_Kms)\n",
    "\n",
    "distancia_millas = distancia_Kms*0.621 "
   ]
  }
 ],
 "metadata": {
  "interpreter": {
   "hash": "c6453bd88908ca63b13ab0806358860135d53ececbd64be6c564866e49d41c9d"
  },
  "kernelspec": {
   "display_name": "Python 3.10.2 64-bit (windows store)",
   "language": "python",
   "name": "python3"
  },
  "language_info": {
   "codemirror_mode": {
    "name": "ipython",
    "version": 3
   },
   "file_extension": ".py",
   "mimetype": "text/x-python",
   "name": "python",
   "nbconvert_exporter": "python",
   "pygments_lexer": "ipython3",
   "version": "3.10.2"
  },
  "orig_nbformat": 4
 },
 "nbformat": 4,
 "nbformat_minor": 2
}
